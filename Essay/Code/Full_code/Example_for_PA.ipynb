{
 "cells": [
  {
   "cell_type": "code",
   "execution_count": 2,
   "id": "6e4a54a0-0d86-4118-b3fe-fa27f0c92c1c",
   "metadata": {},
   "outputs": [],
   "source": [
    "import numpy as np\n",
    "import pickle\n",
    "import sys\n",
    "sys.path.append(r\"C:/Users/pgraham1/Documents/GitHub/PSI/Essay/Code/Full_code/FQHE_SPHERE/\")  # the path to package\n",
    "import FQHE_SPHERE as fqhe\n",
    "from FQHE_SPHERE.general import cg, wigner_3j\n",
    "from sympy.physics.wigner import wigner_6j"
   ]
  },
  {
   "cell_type": "code",
   "execution_count": 3,
   "id": "7af0305a-782d-4504-a7b3-07e0d26ac70a",
   "metadata": {},
   "outputs": [],
   "source": [
    "sigma0 = np.array([[1,0],[0,1.]])\n",
    "sigmax = np.array([[0,1],[1,0.]])\n",
    "sigmay = np.array([[0,-1],[1,0.]])\n",
    "sigmaz = np.array([[1,0],[0,-1.]])\n",
    "sigmaup = (sigma0 + sigmaz)/2\n",
    "sigmadown = (sigma0 - sigmaz)/2"
   ]
  },
  {
   "cell_type": "markdown",
   "id": "053e38c6-1179-41ce-aff7-8f2716f7be71",
   "metadata": {},
   "source": [
    "# No (Ising, parity) quantum number"
   ]
  },
  {
   "cell_type": "code",
   "execution_count": null,
   "id": "d301d532-9315-4c4d-be16-f699e2d7f879",
   "metadata": {},
   "outputs": [],
   "source": [
    "# Below is an example to compute states by imposing quantum numbers (Lz) explicitly. \n",
    "# All the other quantum number needs to computed independently. \n",
    "# It will be faster if we impose (Ising, parity) quantum number, and this will be explained in the next section."
   ]
  },
  {
   "cell_type": "markdown",
   "id": "de80094c-8d63-4bfa-89d7-b693b0da0df8",
   "metadata": {
    "tags": []
   },
   "source": [
    "## Spectrum"
   ]
  },
  {
   "cell_type": "code",
   "execution_count": 4,
   "id": "4d709d65-6b5b-402b-b0ba-38a171701f4e",
   "metadata": {},
   "outputs": [
    {
     "name": "stdout",
     "output_type": "stream",
     "text": [
      "matvec(self, vector):  269  times\n",
      "total  56.34384083747864 : Hamiltonian( 2.217672824859619 ) lanczos( 54.12119698524475 )\n",
      "<Index>\tE_n=<H>\t\tEn-E0\t\trescaled\n",
      " 0\t-18.68868400\t+0.00000000\t+0.00000000\n",
      " 1\t-16.51001166\t+2.17867234\t+0.52363893\n",
      " 2\t-12.83064943\t+5.85803457\t+1.40796525\n",
      " 3\t-12.41555846\t+6.27312554\t+1.50773142\n",
      " 4\t-8.71032743\t+9.97835657\t+2.39827525\n",
      " 5\t-8.26530495\t+10.42337904\t+2.50523539\n",
      " 6\t-8.03935901\t+10.64932499\t+2.55954098\n",
      " 7\t-6.20676823\t+12.48191577\t+3.00000000\n",
      " 8\t-4.59616545\t+14.09251855\t+3.38710471\n",
      " 9\t-4.19634858\t+14.49233542\t+3.48319978\n",
      "10\t-4.12805894\t+14.56062506\t+3.49961304\n",
      "11\t-3.88108400\t+14.80760000\t+3.55897290\n",
      "12\t-2.77463484\t+15.91404916\t+3.82490544\n",
      "13\t-2.02480451\t+16.66387948\t+4.00512545\n",
      "14\t-1.63607459\t+17.05260941\t+4.09855580\n",
      "15\t-1.15399094\t+17.53469306\t+4.21442350\n",
      "16\t-0.82846981\t+17.86021418\t+4.29266176\n",
      "17\t-0.61637666\t+18.07230734\t+4.34363787\n",
      "18\t-0.34327176\t+18.34541224\t+4.40927801\n",
      "19\t+0.36563081\t+19.05431481\t+4.57966113\n",
      "\n"
     ]
    }
   ],
   "source": [
    "n = 12; # system size n=2s+1\n",
    "Lz = 0; # we are computing Lz=0 sector\n",
    "h = 3.16\n",
    "V0 = 4.75\n",
    "V1 = 1.\n",
    "\n",
    "\n",
    "inter = fqhe.interaction()\n",
    "inter.setpseudo2body(inten=[V0,V1])\n",
    "# You can also add V2, V3, etc. Eg. To compute V0=0, V1,V2!=0, you can use inter.setpseudo2body(inten=[0,V1,V2])\n",
    "\n",
    "intra = fqhe.interaction()\n",
    "intra.setpseudo2body(inten=[0.0,0.0])\n",
    "# Please set it to 0. Change it only if you want to play with an interaction different from (n0 * n0 - nz * nz)\n",
    "\n",
    "kk = fqhe.fermion.QHFM(n,n,num_thread=8)\n",
    "# You can change num_thread according to the number of CPU cores you have. The speed increases with num_thread.\n",
    "\n",
    "sol = fqhe.fermion.dl_solver(kk, intra,intra,inter, \"twobody\",qn= {\"Lz\":Lz}, t=h)\n",
    "eigvs = sol.eigsv(k=20, tol=10**(-6))\n",
    "# k=20 means we are computing the 20 lowest states. You can change it as you like. \n",
    "# The cost of memory and time grows with k.\n",
    "\n",
    "eigvs_Lz0 = sorted( eigvs )\n",
    "E0 = eigvs_Lz0[0].get(\"energy\")\n",
    "EMT = eigvs_Lz0[7].get(\"energy\") - E0\n",
    "resu = \"<Index>\\tE_n=<H>\\t\\tEn-E0\\t\\trescaled\\n\" \n",
    "i=0\n",
    "for vec in eigvs_Lz0:\n",
    "    resu += \"{:2d}\\t\".format( i )\n",
    "    resu += \"{:+.8f}\\t\".format( vec.get(\"energy\") )\n",
    "    resu += \"{:+.8f}\\t\".format( vec.get(\"energy\")-E0 )\n",
    "    resu += \"{:+.8f}\\n\".format(3*(vec.get(\"energy\")-E0)/EMT)\n",
    "    i += 1\n",
    "print(resu)"
   ]
  },
  {
   "cell_type": "code",
   "execution_count": 5,
   "id": "b507a859-9e83-48aa-9d82-5e5104d80f12",
   "metadata": {},
   "outputs": [
    {
     "name": "stdout",
     "output_type": "stream",
     "text": [
      "matvec(self, vector):  255  times\n",
      "total  11.574722051620483 : Hamiltonian( 0.3305366039276123 ) lanczos( 11.24095892906189 )\n",
      "<Index>\tE_n=<H>\t\tEn-E0\t\trescaled\n",
      " 0\t-17.36792681\t+0.00000000\t+0.00000000\n",
      " 1\t-15.09097335\t+2.27695346\t+0.52338269\n",
      " 2\t-11.25193062\t+6.11599619\t+1.40582871\n",
      " 3\t-10.81114728\t+6.55677952\t+1.50714759\n",
      " 4\t-6.95090400\t+10.41702281\t+2.39446679\n",
      " 5\t-6.48926302\t+10.87866379\t+2.50058003\n",
      " 6\t-6.23978003\t+11.12814677\t+2.55792643\n",
      " 7\t-4.31655833\t+13.05136848\t+3.00000000\n",
      " 8\t-2.68395879\t+14.68396802\t+3.37527089\n",
      " 9\t-2.25484618\t+15.11308063\t+3.47390712\n",
      "10\t-2.09953116\t+15.26839565\t+3.50960798\n",
      "11\t-1.98571752\t+15.38220929\t+3.53576929\n",
      "12\t-0.74693182\t+16.62099499\t+3.82051775\n",
      "13\t-0.00278114\t+17.36514566\t+3.99156894\n",
      "14\t+0.49537257\t+17.86329938\t+4.10607502\n",
      "15\t+0.96373391\t+18.33166072\t+4.21373301\n",
      "16\t+1.15174809\t+18.51967490\t+4.25695013\n",
      "17\t+1.20503158\t+18.57295839\t+4.26919792\n",
      "18\t+1.71011974\t+19.07804655\t+4.38529797\n",
      "19\t+2.57082788\t+19.93875469\t+4.58314116\n",
      "\n"
     ]
    }
   ],
   "source": [
    "n = 11; # system size n=2s+1\n",
    "Lz = 0; # we are computing Lz=0 sector\n",
    "h = 3.16\n",
    "V0 = 4.75\n",
    "V1 = 1.\n",
    "\n",
    "\n",
    "inter = fqhe.interaction()\n",
    "inter.setpseudo2body(inten=[V0,V1])\n",
    "# You can also add V2, V3, etc. Eg. To compute V0=0, V1,V2!=0, you can use inter.setpseudo2body(inten=[0,V1,V2])\n",
    "\n",
    "intra = fqhe.interaction()\n",
    "intra.setpseudo2body(inten=[0.0,0.0])\n",
    "# Please set it to 0. Change it only if you want to play with an interaction different from (n0 * n0 - nz * nz)\n",
    "\n",
    "kk = fqhe.fermion.QHFM(n,n,num_thread=8)\n",
    "# You can change num_thread according to the number of CPU cores you have. The speed increases with num_thread.\n",
    "\n",
    "sol = fqhe.fermion.dl_solver(kk, intra,intra,inter, \"twobody\",qn= {\"Lz\":Lz}, t=h)\n",
    "eigvs = sol.eigsv(k=20, tol=10**(-6))\n",
    "# k=20 means we are computing the 20 lowest states. You can change it as you like. \n",
    "# The cost of memory and time grows with k.\n",
    "\n",
    "eigvs_Lz0 = sorted( eigvs )\n",
    "E0 = eigvs_Lz0[0].get(\"energy\")\n",
    "EMT = eigvs_Lz0[7].get(\"energy\") - E0\n",
    "resu = \"<Index>\\tE_n=<H>\\t\\tEn-E0\\t\\trescaled\\n\" \n",
    "i=0\n",
    "for vec in eigvs_Lz0:\n",
    "    resu += \"{:2d}\\t\".format( i )\n",
    "    resu += \"{:+.8f}\\t\".format( vec.get(\"energy\") )\n",
    "    resu += \"{:+.8f}\\t\".format( vec.get(\"energy\")-E0 )\n",
    "    resu += \"{:+.8f}\\n\".format(3*(vec.get(\"energy\")-E0)/EMT)\n",
    "    i += 1\n",
    "print(resu)"
   ]
  },
  {
   "cell_type": "code",
   "execution_count": 6,
   "id": "0ea45243-9609-4b72-beb7-40692c4325d0",
   "metadata": {},
   "outputs": [
    {
     "name": "stdout",
     "output_type": "stream",
     "text": [
      "matvec(self, vector):  284  times\n",
      "total  14.935481071472168 : Hamiltonian( 0.307797908782959 ) lanczos( 14.624098300933838 )\n",
      "<Index>\tE_n=<H>\t\tEn-E0\t\trescaled\n",
      " 0\t-10.81114728\t+6.55677952\t+1.50714759\n",
      " 1\t-6.95090400\t+10.41702281\t+2.39446679\n",
      " 2\t-6.23978003\t+11.12814677\t+2.55792643\n",
      " 3\t-4.31655833\t+13.05136848\t+3.00000000\n",
      " 4\t-2.68395879\t+14.68396802\t+3.37527089\n",
      " 5\t-2.25484618\t+15.11308063\t+3.47390712\n",
      " 6\t-1.98571752\t+15.38220929\t+3.53576929\n",
      " 7\t-0.00278114\t+17.36514566\t+3.99156894\n",
      " 8\t+0.49537257\t+17.86329938\t+4.10607502\n",
      " 9\t+0.96373391\t+18.33166072\t+4.21373301\n",
      "10\t+1.15174809\t+18.51967490\t+4.25695013\n",
      "11\t+1.20503158\t+18.57295839\t+4.26919792\n",
      "12\t+1.71011974\t+19.07804655\t+4.38529797\n",
      "13\t+2.57082788\t+19.93875469\t+4.58314116\n",
      "14\t+2.60570684\t+19.97363365\t+4.59115847\n",
      "15\t+3.07168104\t+20.43960785\t+4.69826774\n",
      "16\t+3.36225836\t+20.73018517\t+4.76506012\n",
      "17\t+3.65428534\t+21.02221215\t+4.83218572\n",
      "18\t+3.91008884\t+21.27801565\t+4.89098496\n",
      "19\t+4.14542749\t+21.51335430\t+4.94508013\n",
      "\n"
     ]
    }
   ],
   "source": [
    "n = 11;\n",
    "Lz = 1;\n",
    "h = 3.16\n",
    "V0 = 4.75\n",
    "V1 = 1.\n",
    "inter = fqhe.interaction()\n",
    "inter.setpseudo2body(inten=[V0,V1])\n",
    "intra = fqhe.interaction()\n",
    "intra.setpseudo2body(inten=[0.0,0.0])\n",
    "kk = fqhe.fermion.QHFM(n,n,num_thread=8)\n",
    "kk.setL2ab(a=0.0,b=0.0)\n",
    "sol = fqhe.fermion.dl_solver(kk, intra,intra,inter, \"twobody\",qn= {\"Lz\":Lz}, t=h)\n",
    "eigvs = sol.eigsv(k=20, tol=10**(-6))\n",
    "eigvs_Lz1 = sorted( eigvs )\n",
    "\n",
    "resu = \"<Index>\\tE_n=<H>\\t\\tEn-E0\\t\\trescaled\\n\" \n",
    "i=0\n",
    "for vec in eigvs_Lz1:\n",
    "    resu += \"{:2d}\\t\".format( i )\n",
    "    resu += \"{:+.8f}\\t\".format( vec.get(\"energy\") )\n",
    "    resu += \"{:+.8f}\\t\".format( vec.get(\"energy\")-E0 )\n",
    "    resu += \"{:+.8f}\\n\".format(3*(vec.get(\"energy\")-E0)/EMT)\n",
    "    i += 1\n",
    "print(resu)"
   ]
  },
  {
   "cell_type": "markdown",
   "id": "201e5ec2-459b-4111-8019-e5665d0dceb8",
   "metadata": {},
   "source": [
    "## compute Lorentz spin"
   ]
  },
  {
   "cell_type": "code",
   "execution_count": 239,
   "id": "6a9a2420-b117-442c-808c-5677bae29a16",
   "metadata": {},
   "outputs": [],
   "source": [
    "def compute_L(state, n, Lz, num_thread=8):\n",
    "    # this function computes the <state| L^2 | state> = l*(l+1)\n",
    "    s = (n-1)/2\n",
    "    kk_comp = fqhe.fermion.QHFM(n,n, dtype=np.float64, num_thread=num_thread)\n",
    "    \n",
    "    kk_comp.Hilbertspace(qn={\"Lz\":Lz})\n",
    "    \n",
    "    #when you apply an operator to state, it is important to correctly input the Lz quantum number of the state\n",
    "    temp = kk_comp.nlmAOp(state, l=1, m=0, A=sigma0, qn={\"Lz\":Lz})   \n",
    "    psi0 = kk_comp.nlmAOp(temp, l=1, m=0, A=sigma0, qn={\"Lz\":Lz}) \n",
    "    \n",
    "    \n",
    "    kk_comp.Hilbertspace(qn={\"Lz\":Lz})\n",
    "    temp = kk_comp.nlmAOp(state, l=1, m=1, A=sigma0, qn={\"Lz\":Lz})    \n",
    "    psi1 = kk_comp.nlmAOp(temp, l=1, m=-1, A=sigma0, qn={\"Lz\":Lz+1}) \n",
    "    \n",
    "    \n",
    "    kk_comp.Hilbertspace(qn={\"Lz\":Lz})\n",
    "    temp = kk_comp.nlmAOp(state, l=1, m=-1, A=sigma0, qn={\"Lz\":Lz})    \n",
    "    psi2 = kk_comp.nlmAOp(temp, l=1, m=1, A=sigma0, qn={\"Lz\":Lz-1}) \n",
    "    \n",
    "    # psi2 = kk_comp.nl1m_nl2m_ABOp(state, l1=1, l2=1, m=-1, A=sigma0, B=sigma0, qn= {\"Lz\":Lz})    \n",
    "    \n",
    "    res = (psi0 - psi1 - psi2)/3 * 4 * np.pi * (s+1)**2\n",
    "    \n",
    "    return res@state"
   ]
  },
  {
   "cell_type": "code",
   "execution_count": 97,
   "id": "0654e202-7927-47d0-8ee6-244fc59fee3f",
   "metadata": {},
   "outputs": [
    {
     "name": "stdout",
     "output_type": "stream",
     "text": [
      "<Index>\tl(l+1)\t\tE_n=<H>\t\tEn-E0\t\trescaled\n",
      " 0\t+0.00000000\t-17.36792681\t+0.00000000\t+0.00000000\n",
      " 1\t+0.00000000\t-15.09097335\t+2.27695346\t+0.52338269\n",
      " 2\t+0.00000000\t-11.25193062\t+6.11599619\t+1.40582871\n",
      " 3\t+2.00000000\t-10.81114728\t+6.55677952\t+1.50714759\n",
      " 4\t+2.00000000\t-6.95090400\t+10.41702281\t+2.39446679\n",
      " 5\t+0.00000000\t-6.48926302\t+10.87866379\t+2.50058003\n",
      " 6\t+6.00000000\t-6.23978003\t+11.12814677\t+2.55792643\n",
      " 7\t+6.00000000\t-4.31655833\t+13.05136848\t+3.00000000\n",
      " 8\t+6.00000000\t-2.68395879\t+14.68396802\t+3.37527089\n",
      " 9\t+2.00000000\t-2.25484618\t+15.11308063\t+3.47390712\n",
      "10\t+0.00000000\t-2.09953116\t+15.26839565\t+3.50960798\n",
      "11\t+12.00000000\t-1.98571752\t+15.38220929\t+3.53576929\n",
      "12\t+0.00000000\t-0.74693182\t+16.62099499\t+3.82051775\n",
      "13\t+12.00000000\t-0.00278114\t+17.36514566\t+3.99156894\n",
      "14\t+6.00000000\t+0.49537257\t+17.86329938\t+4.10607502\n",
      "15\t+6.00000000\t+0.96373391\t+18.33166072\t+4.21373301\n",
      "16\t+12.00000000\t+1.15174809\t+18.51967490\t+4.25695013\n",
      "17\t+20.00000000\t+1.20503158\t+18.57295839\t+4.26919792\n",
      "18\t+6.00000000\t+1.71011974\t+19.07804655\t+4.38529797\n",
      "19\t+2.00000000\t+2.57082788\t+19.93875469\t+4.58314116\n",
      "\n"
     ]
    }
   ],
   "source": [
    "resu = \"<Index>\\tl(l+1)\\t\\tE_n=<H>\\t\\tEn-E0\\t\\trescaled\\n\" \n",
    "i=0\n",
    "for vec in eigvs_Lz0:\n",
    "    resu += \"{:2d}\\t\".format( i )\n",
    "    resu += \"{:+.8f}\\t\".format(compute_L(vec.vec, n=11, Lz=0, num_thread=8) )\n",
    "    resu += \"{:+.8f}\\t\".format( vec.get(\"energy\") )\n",
    "    resu += \"{:+.8f}\\t\".format( vec.get(\"energy\")-E0 )\n",
    "    resu += \"{:+.8f}\\n\".format(3*(vec.get(\"energy\")-E0)/EMT)\n",
    "    i += 1\n",
    "print(resu)"
   ]
  },
  {
   "cell_type": "code",
   "execution_count": 98,
   "id": "4b3eb74a-f977-4ffc-9a21-947cc070a3ab",
   "metadata": {},
   "outputs": [
    {
     "name": "stdout",
     "output_type": "stream",
     "text": [
      "<Index>\tl(l+1)\t\tE_n=<H>\t\tEn-E0\t\trescaled\n",
      " 0\t+2.00000000\t-10.81114728\t+6.55677952\t+1.50714759\n",
      " 1\t+2.00000000\t-6.95090400\t+10.41702281\t+2.39446679\n",
      " 2\t+6.00000000\t-6.23978003\t+11.12814677\t+2.55792643\n",
      " 3\t+6.00000000\t-4.31655833\t+13.05136848\t+3.00000000\n",
      " 4\t+6.00000000\t-2.68395879\t+14.68396802\t+3.37527089\n",
      " 5\t+2.00000000\t-2.25484618\t+15.11308063\t+3.47390712\n",
      " 6\t+12.00000000\t-1.98571752\t+15.38220929\t+3.53576929\n",
      " 7\t+12.00000000\t-0.00278114\t+17.36514566\t+3.99156894\n",
      " 8\t+6.00000000\t+0.49537257\t+17.86329938\t+4.10607502\n",
      " 9\t+6.00000000\t+0.96373391\t+18.33166072\t+4.21373301\n",
      "10\t+12.00000000\t+1.15174809\t+18.51967490\t+4.25695013\n",
      "11\t+20.00000000\t+1.20503158\t+18.57295839\t+4.26919792\n",
      "12\t+6.00000000\t+1.71011974\t+19.07804655\t+4.38529797\n",
      "13\t+2.00000000\t+2.57082788\t+19.93875469\t+4.58314116\n",
      "14\t+12.00000000\t+2.60570684\t+19.97363365\t+4.59115847\n",
      "15\t+30.00000000\t+3.07168104\t+20.43960785\t+4.69826774\n",
      "16\t+20.00000000\t+3.36225836\t+20.73018517\t+4.76506012\n",
      "17\t+2.00000000\t+3.65428534\t+21.02221215\t+4.83218572\n",
      "18\t+42.00000000\t+3.91008884\t+21.27801565\t+4.89098496\n",
      "19\t+20.00000000\t+4.14542749\t+21.51335430\t+4.94508013\n",
      "\n"
     ]
    }
   ],
   "source": [
    "resu = \"<Index>\\tl(l+1)\\t\\tE_n=<H>\\t\\tEn-E0\\t\\trescaled\\n\" \n",
    "i=0\n",
    "for vec in eigvs_Lz1:\n",
    "    resu += \"{:2d}\\t\".format( i )\n",
    "    resu += \"{:+.8f}\\t\".format(compute_L(vec.vec, n=11, Lz=1, num_thread=8) )\n",
    "    resu += \"{:+.8f}\\t\".format( vec.get(\"energy\") )\n",
    "    resu += \"{:+.8f}\\t\".format( vec.get(\"energy\")-E0 )\n",
    "    resu += \"{:+.8f}\\n\".format(3*(vec.get(\"energy\")-E0)/EMT)\n",
    "    i += 1\n",
    "print(resu)"
   ]
  },
  {
   "cell_type": "markdown",
   "id": "08c97d2d-75fe-4b71-a093-0549968acc1e",
   "metadata": {},
   "source": [
    "## OPE"
   ]
  },
  {
   "cell_type": "code",
   "execution_count": 8,
   "id": "c11e3074-31c1-48bd-8075-ffda6b37ce01",
   "metadata": {},
   "outputs": [
    {
     "name": "stdout",
     "output_type": "stream",
     "text": [
      "1.02448227675668\n"
     ]
    }
   ],
   "source": [
    "vacuum = eigvs_Lz0[0].vec\n",
    "sigma = eigvs_Lz0[1].vec\n",
    "epsilon = eigvs_Lz0[2].vec\n",
    "\n",
    "kk_comp = fqhe.fermion.QHFM(n,n, dtype=np.float64, num_thread=8)\n",
    "kk_comp.Hilbertspace(qn={\"Lz\":0})\n",
    "\n",
    "#when you apply an operator to state, it is important to correctly input the Lz quantum number of the state\n",
    "temp = kk_comp.nlmAOp(sigma, l=0, m=0, A=sigmaz, qn={\"Lz\":0})  # compute  n^z_{0, 0}|sigma>\n",
    "\n",
    "res1 = temp@epsilon # <epsilon| n^z_{0,0} |sigma>\n",
    "res2 = temp@vacuum # <vacuum| n^z_{0,0} |sigma>\n",
    "\n",
    "print(res1/res2)"
   ]
  },
  {
   "cell_type": "markdown",
   "id": "52ebcebf-39af-4726-8b64-63b9d1ba22d7",
   "metadata": {},
   "source": [
    "# With (Ising, parity) quantum number"
   ]
  },
  {
   "cell_type": "markdown",
   "id": "076915b5-b49f-4f9e-b3d0-7fdad7361322",
   "metadata": {},
   "source": [
    "## Spectrum"
   ]
  },
  {
   "cell_type": "code",
   "execution_count": 13,
   "id": "1f62c14d-7f23-40ef-b327-624fa84a3479",
   "metadata": {},
   "outputs": [
    {
     "name": "stdout",
     "output_type": "stream",
     "text": [
      "matvec(self, vector):  266  times\n",
      "eigsv: Measure: H2L2\n",
      "total  0.3008120059967041 : Hamiltonian( 0.14893794059753418 ) lanczos( 0.14026188850402832 )\n",
      "<Index>\tl(l+1)\tPH\tZ_2\tE_n=<H>\t\tEn-E0\t\trescaled\n",
      " 0\t+0.00\t-1\t-1\t-17.36792681\t+0.00000000\t+0.00000000\n",
      " 1\t+0.00\t-1\t-1\t-11.25193062\t+6.11599619\t+1.40582871\n",
      " 2\t+2.00\t-1\t-1\t-6.95090400\t+10.41702281\t+2.39446679\n",
      " 3\t+6.00\t-1\t-1\t-4.31655833\t+13.05136848\t+3.00000000\n",
      " 4\t+6.00\t-1\t-1\t-2.68395879\t+14.68396802\t+3.37527089\n",
      " 5\t-0.00\t-1\t-1\t-2.09953116\t+15.26839565\t+3.50960798\n",
      " 6\t-0.00\t-1\t-1\t-0.74693182\t+16.62099499\t+3.82051775\n",
      " 7\t+12.00\t-1\t-1\t-0.00278114\t+17.36514566\t+3.99156894\n",
      " 8\t+12.00\t-1\t-1\t+1.15174809\t+18.51967490\t+4.25695013\n",
      " 9\t+2.00\t-1\t-1\t+2.57082788\t+19.93875469\t+4.58314116\n",
      "10\t+20.00\t-1\t-1\t+3.36225836\t+20.73018517\t+4.76506012\n",
      "11\t+2.00\t-1\t-1\t+3.65428534\t+21.02221215\t+4.83218572\n",
      "12\t+20.00\t-1\t-1\t+4.14542749\t+21.51335430\t+4.94508013\n",
      "13\t+20.00\t-1\t-1\t+4.82078773\t+22.18871454\t+5.10031908\n",
      "14\t+6.00\t-1\t-1\t+5.32412341\t+22.69205022\t+5.21601630\n",
      "15\t+30.00\t-1\t-1\t+5.41434130\t+22.78226811\t+5.23675386\n",
      "16\t+30.00\t-1\t-1\t+6.17638484\t+23.54431165\t+5.41191792\n",
      "17\t+42.00\t-1\t-1\t+6.47568018\t+23.84360699\t+5.48071423\n",
      "18\t+6.00\t-1\t-1\t+6.48017386\t+23.84810067\t+5.48174715\n",
      "19\t+6.00\t-1\t-1\t+6.82952162\t+24.19744843\t+5.56204856\n",
      "20\t+56.00\t-1\t-1\t+6.98438421\t+24.35231102\t+5.59764543\n",
      "21\t+42.00\t-1\t-1\t+7.22745574\t+24.59538255\t+5.65351808\n",
      "22\t+72.00\t-1\t-1\t+7.24135941\t+24.60928622\t+5.65671399\n",
      "23\t+90.00\t-1\t-1\t+7.40945055\t+24.77737736\t+5.69535158\n",
      "24\t-0.00\t-1\t-1\t+7.57594201\t+24.94386882\t+5.73362147\n",
      "25\t+56.00\t-1\t-1\t+7.64424873\t+25.01217554\t+5.74932251\n",
      "26\t+110.00\t-1\t-1\t+7.67387347\t+25.04180028\t+5.75613208\n",
      "27\t+72.00\t-1\t-1\t+7.77048795\t+25.13841476\t+5.77833998\n",
      "28\t+90.00\t-1\t-1\t+7.78077931\t+25.14870612\t+5.78070556\n",
      "29\t+6.00\t-1\t-1\t+7.92065127\t+25.28857808\t+5.81285666\n",
      "\n"
     ]
    }
   ],
   "source": [
    "# Below is an example to compute states by imposing quantum numbers (Lz, Z2, PH) explicitly. \n",
    "# Lz is the U(1) part of SO(3) Lorentz symmetry. For most applications, we just compute Lz=0 sector. You may run to errors if Lz!=0.\n",
    "\n",
    "# Z2 and PH are related to the (Ising Z2, parity), but due to the implementation of the code, \n",
    "# there are funny size (n) dependences when you relate (Z2, PH) with (Ising, parity). The depedence oscilates with a period=4.  \n",
    "\n",
    "# The size_array below ([n, Z2, PH]) gives the [Z2, PH] quantum number that corresponds to (Ising=1, Parity=1).\n",
    "# Other quantum numbers are related by (Ising=-1, Parity=1) = [-Z2, PH], (Ising=1, Parity=-1) = [Z2, -PH], (Ising=-1, Parity=-1) = [-Z2, -PH]\n",
    "size_array = [ [8, 1, 1], [9, -1, 1], [10, 1, -1], [11, -1, -1], [12, 1, 1], [13, -1, 1], [14, 1, -1], [15, -1, -1], [16, 1, 1] ]\n",
    "\n",
    "n = 11; # size n=2s+1\n",
    "Z2 = -1;\n",
    "PH = -1;\n",
    "# We are computing (Ising=1, Parity=1) sector of n=11 electrons.\n",
    "\n",
    "Lz = 0;\n",
    "h = 3.16\n",
    "V0 = 4.75\n",
    "V1 = 1.\n",
    "\n",
    "inter = fqhe.interaction()\n",
    "inter.setpseudo2body(inten=[V0,V1])\n",
    "# You can also add V2, V3, etc. Eg. To compute V0=0, V1,V2!=0, you can use inter.setpseudo2body(inten=[0,V1,V2])\n",
    "\n",
    "\n",
    "intra = fqhe.interaction()\n",
    "intra.setpseudo2body(inten=[0.0,0.0]) \n",
    "# Please set it to 0. Change it only if you want to play with an interaction different from (n0 * n0 - nz * nz)\n",
    "\n",
    "kk = fqhe.fermion.QHFM(n,n,num_thread=8) \n",
    "# You can change num_thread according to the number of CPU cores you have. The speed increases with num_thread.\n",
    "\n",
    "kk.setL2ab(a=0.0,b=0.0)\n",
    "sol = fqhe.fermion.dl_solver(kk, intra,intra,inter, \"H2L2\",qn= {\"Lz\":Lz,\"Z_2\":Z2,\"PH\":PH}, t=h)\n",
    "# We are computing the eigenstates with the quantum number (Lz, Z2, PH).\n",
    "\n",
    "\n",
    "eigvs = sol.eigsv(k=30, tol=10**(-6))\n",
    "# k=30 means we are computing the 30 lowest states. You can change it as you like. \n",
    "# The cost of memory and time grows with k.\n",
    "\n",
    "eigvs_even = sorted( eigvs )\n",
    "E0 = eigvs_even[0].get(\"energy\")\n",
    "EMT = eigvs_even[3].get(\"energy\") - E0\n",
    "resu = \"<Index>\\tl(l+1)\\tPH\\tZ_2\\tE_n=<H>\\t\\tEn-E0\\t\\trescaled\\n\" \n",
    "i=0\n",
    "\n",
    "for vec in eigvs_even:\n",
    "\n",
    "    resu += \"{:2d}\\t\".format( i )\n",
    "    resu += \"{:+.2f}\\t\".format( vec.get(\"L2\") )\n",
    "    resu += \"{:+d}\\t\".format( int(vec.get(\"PH\")) )\n",
    "    resu += \"{:+d}\\t\".format( int(vec.get(\"Z_2\")) )\n",
    "    resu += \"{:+.8f}\\t\".format( vec.get(\"energy\") )\n",
    "    resu += \"{:+.8f}\\t\".format( vec.get(\"energy\")-E0 )\n",
    "    resu += \"{:+.8f}\\n\".format(3*(vec.get(\"energy\")-E0)/EMT)\n",
    "    i += 1\n",
    "\n",
    "print(resu)"
   ]
  },
  {
   "cell_type": "code",
   "execution_count": 14,
   "id": "dc997e8b-a861-4ff9-8c84-1feeeb3de2ec",
   "metadata": {},
   "outputs": [
    {
     "name": "stdout",
     "output_type": "stream",
     "text": [
      "matvec(self, vector):  254  times\n",
      "eigsv: Measure: H2L2\n",
      "total  0.2965571880340576 : Hamiltonian( 0.15593600273132324 ) lanczos( 0.1306161880493164 )\n",
      "<Index>\tl(l+1)\tPH\tZ_2\tE_n=<H>\t\tEn-E0\t\trescaled\n",
      " 0\t+0.00\t-1\t+1\t-15.09097335\t+2.27695346\t+0.52338269\n",
      " 1\t+2.00\t-1\t+1\t-10.81114728\t+6.55677952\t+1.50714759\n",
      " 2\t+0.00\t-1\t+1\t-6.48926302\t+10.87866379\t+2.50058003\n",
      " 3\t+6.00\t-1\t+1\t-6.23978003\t+11.12814677\t+2.55792643\n",
      " 4\t+2.00\t-1\t+1\t-2.25484618\t+15.11308063\t+3.47390712\n",
      " 5\t+12.00\t-1\t+1\t-1.98571752\t+15.38220929\t+3.53576929\n",
      " 6\t+6.00\t-1\t+1\t+0.96373391\t+18.33166072\t+4.21373301\n",
      " 7\t+20.00\t-1\t+1\t+1.20503158\t+18.57295839\t+4.26919792\n",
      " 8\t+6.00\t-1\t+1\t+1.71011974\t+19.07804655\t+4.38529797\n",
      " 9\t-0.00\t-1\t+1\t+2.57192551\t+19.93985232\t+4.58339346\n",
      "10\t+12.00\t-1\t+1\t+2.60570684\t+19.97363365\t+4.59115847\n",
      "11\t+30.00\t-1\t+1\t+3.07168104\t+20.43960785\t+4.69826774\n",
      "12\t+42.00\t-1\t+1\t+3.91008884\t+21.27801565\t+4.89098496\n",
      "13\t+56.00\t-1\t+1\t+4.19344289\t+21.56136970\t+4.95611699\n",
      "14\t+72.00\t-1\t+1\t+4.26389034\t+21.63181715\t+4.97231011\n",
      "15\t+90.00\t-1\t+1\t+4.27774904\t+21.64567585\t+4.97549569\n",
      "16\t+110.00\t-1\t+1\t+4.28160061\t+21.64952742\t+4.97638101\n",
      "17\t+12.00\t-1\t+1\t+4.86855614\t+22.23648295\t+5.11129917\n",
      "18\t+12.00\t-1\t+1\t+5.41530681\t+22.78323362\t+5.23697580\n",
      "19\t-0.00\t-1\t+1\t+5.56056401\t+22.92849082\t+5.27036476\n",
      "20\t+2.00\t-1\t+1\t+6.13186383\t+23.49979064\t+5.40168428\n",
      "21\t+20.00\t-1\t+1\t+6.40798335\t+23.77591016\t+5.46515337\n",
      "22\t+2.00\t-1\t+1\t+7.02494517\t+24.39287198\t+5.60696881\n",
      "23\t+20.00\t-1\t+1\t+7.39056713\t+24.75849394\t+5.69101102\n",
      "24\t+6.00\t-1\t+1\t+8.25426572\t+25.62219253\t+5.88954160\n",
      "25\t+20.00\t-1\t+1\t+8.66982358\t+26.03775039\t+5.98506212\n",
      "26\t+30.00\t-1\t+1\t+8.97241501\t+26.34034182\t+6.05461608\n",
      "27\t+30.00\t-1\t+1\t+9.25420352\t+26.62213033\t+6.11938826\n",
      "28\t+20.00\t-1\t+1\t+9.54466516\t+26.91259197\t+6.18615404\n",
      "29\t+2.00\t-1\t+1\t+9.64328423\t+27.01121103\t+6.20882272\n",
      "\n"
     ]
    }
   ],
   "source": [
    "n = 11; # size n=2s+1\n",
    "Z2 = 1;\n",
    "PH = -1;\n",
    "# We are now computing (Ising=-1, Parity=1) sector of n=11 electrons.\n",
    "\n",
    "Lz = 0;\n",
    "h = 3.16\n",
    "V0 = 4.75\n",
    "V1 = 1.\n",
    "inter = fqhe.interaction()\n",
    "inter.setpseudo2body(inten=[V0,V1])\n",
    "intra = fqhe.interaction()\n",
    "intra.setpseudo2body(inten=[0.0,0.0]) \n",
    "kk = fqhe.fermion.QHFM(n,n,num_thread=8) \n",
    "kk.setL2ab(a=0.0,b=0.0)\n",
    "sol = fqhe.fermion.dl_solver(kk, intra,intra,inter, \"H2L2\",qn= {\"Lz\":Lz,\"Z_2\":Z2,\"PH\":PH}, t=h)\n",
    "eigvs = sol.eigsv(k=30, tol=10**(-6))\n",
    "\n",
    "\n",
    "eigvs_odd = sorted( eigvs )\n",
    "\n",
    "# Below are commented because we should input groundstate energy and stress tensor energy from the computation in the previous cell.\n",
    "# ge = eigvs[0].get(\"energy\")\n",
    "# EMT = eigvs[3].get(\"energy\") - ge\n",
    "\n",
    "resu = \"<Index>\\tl(l+1)\\tPH\\tZ_2\\tE_n=<H>\\t\\tEn-E0\\t\\trescaled\\n\" \n",
    "i=0\n",
    "\n",
    "for vec in eigvs:\n",
    "\n",
    "    resu += \"{:2d}\\t\".format( i )\n",
    "    resu += \"{:+.2f}\\t\".format( vec.get(\"L2\") )\n",
    "    resu += \"{:+d}\\t\".format( int(vec.get(\"PH\")) )\n",
    "    resu += \"{:+d}\\t\".format( int(vec.get(\"Z_2\")) )\n",
    "    resu += \"{:+.8f}\\t\".format( vec.get(\"energy\") )\n",
    "    resu += \"{:+.8f}\\t\".format( vec.get(\"energy\")-E0 )\n",
    "    resu += \"{:+.8f}\\n\".format(3*(vec.get(\"energy\")-E0)/EMT)\n",
    "    i += 1\n",
    "\n",
    "print(resu)"
   ]
  },
  {
   "cell_type": "code",
   "execution_count": 15,
   "id": "8773ea18-0be9-4039-90b5-09f276ae060d",
   "metadata": {},
   "outputs": [],
   "source": [
    "kk = fqhe.fermion.QHFM(n,n,num_thread=10)\n",
    "kk.Hilbertspace(qn={\"Lz\":0,\"Z_2\":-1,\"PH\":-1})\n",
    "eigvLz_ZePe = kk.Z2PH_to_Lz(eigvs_even)\n",
    "\n",
    "kk.Hilbertspace(qn={\"Lz\":0,\"Z_2\":1,\"PH\":-1})\n",
    "eigvLz_ZoPe = kk.Z2PH_to_Lz(eigvs_odd)"
   ]
  },
  {
   "cell_type": "code",
   "execution_count": 16,
   "id": "fba33e91-fcdc-4abd-9855-cbf2ab6b98cc",
   "metadata": {},
   "outputs": [
    {
     "name": "stdout",
     "output_type": "stream",
     "text": [
      "2.903523391987591\n"
     ]
    },
    {
     "data": {
      "text/plain": [
       "0.983371549272496"
      ]
     },
     "execution_count": 16,
     "metadata": {},
     "output_type": "execute_result"
    }
   ],
   "source": [
    "sigma = eigvLz_ZoPe[0].vec\n",
    "psigma = eigvLz_ZoPe[1].vec\n",
    "\n",
    "res = Hlm(sigma, n, V0, V1, h, l=1, m=0, Lz=0) # compute H_{l=1, m=0}(V0, V1, h)|sigma>\n",
    "print(np.sqrt(res@res))\n",
    "# res = res/np.sqrt(res@res)\n",
    "res@psigma/np.sqrt(res@res)"
   ]
  },
  {
   "cell_type": "code",
   "execution_count": 18,
   "id": "e529d715-a1af-4376-9712-064caa402b4f",
   "metadata": {},
   "outputs": [
    {
     "name": "stdout",
     "output_type": "stream",
     "text": [
      "2.903523391987591\n"
     ]
    },
    {
     "data": {
      "text/plain": [
       "0.16549935551502523"
      ]
     },
     "execution_count": 18,
     "metadata": {},
     "output_type": "execute_result"
    }
   ],
   "source": [
    "res = Hlm(sigma, n, V0, V1, h, l=1, m=0, Lz=0) # compute H_{l=1, m=0}(V0, V1, h)|sigma>\n",
    "print(np.sqrt(res@res))\n",
    "# res = res/np.sqrt(res@res)\n",
    "res@eigvLz_ZoPe[4].vec/np.sqrt(res@res)"
   ]
  },
  {
   "cell_type": "code",
   "execution_count": 19,
   "id": "78c2b202-af81-49e3-8529-56d2f49a2cc1",
   "metadata": {},
   "outputs": [
    {
     "name": "stdout",
     "output_type": "stream",
     "text": [
      "0.6000788588143448\n"
     ]
    }
   ],
   "source": [
    "res = Hlm(eigvLz_ZePe[0].vec, n, V0, V1, h, l=1, m=0, Lz=0) # compute H_{l=1, m=0}(V0, V1, h)|sigma>\n",
    "print(np.sqrt(res@res))\n",
    "# res = res/np.sqrt(res@res)\n",
    "# res@eigvLz_ZoPe[4].vec/np.sqrt(res@res)"
   ]
  },
  {
   "cell_type": "code",
   "execution_count": 20,
   "id": "421309af-3c32-4ef5-9fbc-547cf507b81f",
   "metadata": {},
   "outputs": [
    {
     "name": "stdout",
     "output_type": "stream",
     "text": [
      "0.04020495240759299\n"
     ]
    }
   ],
   "source": [
    "V0_op = 5.0494\n",
    "V1_op = 1.\n",
    "h_op =  3.60284\n",
    "res = Hlm(eigvLz_ZePe[0].vec, n, V0_op, V1_op, h_op, l=1, m=0, Lz=0) # compute H_{l=1, m=0}(V0, V1, h)|sigma>\n",
    "print(np.sqrt(res@res))"
   ]
  },
  {
   "cell_type": "code",
   "execution_count": 23,
   "id": "b7ffdc2a-47f0-4ee1-a9ce-4d24a813a5ae",
   "metadata": {},
   "outputs": [
    {
     "data": {
      "text/plain": [
       "-0.03861734420233154"
      ]
     },
     "execution_count": 23,
     "metadata": {},
     "output_type": "execute_result"
    }
   ],
   "source": [
    "res = Hlm(eigvLz_ZePe[0].vec, n, V0_op, V1_op, h_op, l=1, m=0, Lz=0) # compute H_{l=1, m=0}(V0, V1, h)|sigma>\n",
    "res@eigvLz_ZePe[2].vec"
   ]
  },
  {
   "cell_type": "markdown",
   "id": "14d4a21c-1549-4cf9-bc93-d30b703ebe54",
   "metadata": {},
   "source": [
    "## OPE"
   ]
  },
  {
   "cell_type": "code",
   "execution_count": 198,
   "id": "368e034c-5864-41f2-8dbd-ebbf0796a22b",
   "metadata": {},
   "outputs": [
    {
     "name": "stdout",
     "output_type": "stream",
     "text": [
      "1.0244822767566804\n"
     ]
    }
   ],
   "source": [
    "#### To compute observables, we have to firstly convert the states into states in the basis without (Z2, PH) quantum numbers.\n",
    "# The following lines is doing this job.\n",
    "kk = fqhe.fermion.QHFM(n,n,num_thread=10)\n",
    "kk.Hilbertspace(qn={\"Lz\":0,\"Z_2\":-1,\"PH\":-1})\n",
    "eigvLz_ZePe = kk.Z2PH_to_Lz(eigvs_even)\n",
    "\n",
    "kk.Hilbertspace(qn={\"Lz\":0,\"Z_2\":1,\"PH\":-1})\n",
    "eigvLz_ZoPe = kk.Z2PH_to_Lz(eigvs_odd)\n",
    "#### After converting to the Lz only basis, the code for computation will be the same as the ones without using (Z2, PH).\n",
    "\n",
    "\n",
    "\n",
    "vacuum = eigvLz_ZePe[0].vec\n",
    "sigma = eigvLz_ZoPe[0].vec\n",
    "epsilon = eigvLz_ZePe[1].vec\n",
    "\n",
    "kk_comp = fqhe.fermion.QHFM(n,n, dtype=np.float64, num_thread=8)\n",
    "kk_comp.Hilbertspace(qn={\"Lz\":0})\n",
    "\n",
    "temp = kk_comp.nlmAOp(sigma, l=0, m=0, A=sigmaz, qn={\"Lz\":0})  # compute  n^z_{0, 0}|sigma>\n",
    "\n",
    "res1 = temp@epsilon # <epsilon| n^z_{0,0} |sigma>\n",
    "res2 = temp@vacuum # <vacuum| n^z_{0,0} |sigma>\n",
    "\n",
    "print(res1/res2)"
   ]
  },
  {
   "cell_type": "code",
   "execution_count": null,
   "id": "bb4e8b99-9a9b-47c8-89f2-c515e4d4d08a",
   "metadata": {},
   "outputs": [],
   "source": []
  }
 ],
 "metadata": {
  "kernelspec": {
   "display_name": "Python 3 (ipykernel)",
   "language": "python",
   "name": "python3"
  },
  "language_info": {
   "codemirror_mode": {
    "name": "ipython",
    "version": 3
   },
   "file_extension": ".py",
   "mimetype": "text/x-python",
   "name": "python",
   "nbconvert_exporter": "python",
   "pygments_lexer": "ipython3",
   "version": "3.9.18"
  }
 },
 "nbformat": 4,
 "nbformat_minor": 5
}
